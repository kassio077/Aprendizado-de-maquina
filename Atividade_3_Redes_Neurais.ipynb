{
  "nbformat": 4,
  "nbformat_minor": 0,
  "metadata": {
    "colab": {
      "name": "Atividade_3_Redes_Neurais.ipynb",
      "provenance": [],
      "authorship_tag": "ABX9TyNkZ2S0gSHR9daQRTi60heO"
    },
    "kernelspec": {
      "name": "python3",
      "display_name": "Python 3"
    }
  },
  "cells": [
    {
      "cell_type": "markdown",
      "metadata": {
        "id": "Jq4LvFCugkOU",
        "colab_type": "text"
      },
      "source": [
        "# Detecção de intrusão na rede - Classificando com Redes Neurais"
      ]
    },
    {
      "cell_type": "code",
      "metadata": {
        "id": "qpIe97DJg7-t",
        "colab_type": "code",
        "colab": {
          "base_uri": "https://localhost:8080/",
          "height": 34
        },
        "outputId": "e86e320e-b3f8-4daa-81a2-0743adc42fff"
      },
      "source": [
        "print(\"Teste de formatação\")"
      ],
      "execution_count": 1,
      "outputs": [
        {
          "output_type": "stream",
          "text": [
            "Teste de formatação\n"
          ],
          "name": "stdout"
        }
      ]
    }
  ]
}